{
  "cells": [
    {
      "cell_type": "markdown",
      "metadata": {
        "_kg_hide-output": true,
        "id": "SbbJcFxKuPdj"
      },
      "source": [
        "# HW2A: Alignment with IBM Model 1\n"
      ]
    },
    {
      "cell_type": "code",
      "execution_count": 22,
      "metadata": {
        "_cell_guid": "b1076dfc-b9ad-4769-8c92-a6c4dae69d19",
        "_uuid": "8f2839f25d086af736a60e9eeb907d3b93b6e0e5",
        "execution": {
          "iopub.execute_input": "2022-02-11T20:25:09.644101Z",
          "iopub.status.busy": "2022-02-11T20:25:09.64378Z",
          "iopub.status.idle": "2022-02-11T20:25:09.651999Z",
          "shell.execute_reply": "2022-02-11T20:25:09.650789Z",
          "shell.execute_reply.started": "2022-02-11T20:25:09.644071Z"
        },
        "id": "RbrdQqdRuPdl",
        "trusted": true
      },
      "outputs": [],
      "source": [
        "# This Python 3 environment comes with many helpful analytics libraries installed\n",
        "# It is defined by the kaggle/python Docker image: https://github.com/kaggle/docker-python\n",
        "# For example, here's several helpful packages to load\n",
        "\n",
        "import math\n",
        "import matplotlib.pyplot as plt # graphs and figures\n",
        "import numpy as np # linear algebra\n",
        "import pandas as pd # data processing, CSV file I/O (e.g. pd.read_csv)\n",
        "import string\n",
        "from collections import Counter\n",
        "from itertools import product\n",
        "import tqdm.notebook\n",
        "import pickle\n",
        "\n",
        "# Input data files are available in the read-only \"../input/\" directory\n",
        "# For example, running this (by clicking run or pressing Shift+Enter) will list all files under the input directory\n",
        "\n",
        "import os\n",
        "for dirname, _, filenames in os.walk('/kaggle/input'):\n",
        "    for filename in filenames:\n",
        "        print(os.path.join(dirname, filename))\n",
        "\n",
        "# You can write up to 20GB to the current directory (/kaggle/working/) that gets preserved as output when you create a version using \"Save & Run All\" \n",
        "# You can also write temporary files to /kaggle/temp/, but they won't be saved outside of the current session"
      ]
    },
    {
      "cell_type": "markdown",
      "metadata": {
        "id": "4ROT120tuPdm"
      },
      "source": [
        "## Data\n",
        "\n",
        "We'll start out by using a toy dataset. Please see [these slides](https://cal-cs288.github.io/sp20/slides/cs288_sp20_05_statistical_translation_4up.pdf) for a more complete coverage of IBM Model 1, and feel free to check out Philipp Koehn's book _Statistical Machine Translation_. "
      ]
    },
    {
      "cell_type": "code",
      "execution_count": 23,
      "metadata": {
        "execution": {
          "iopub.execute_input": "2022-02-11T20:27:06.438933Z",
          "iopub.status.busy": "2022-02-11T20:27:06.436853Z",
          "iopub.status.idle": "2022-02-11T20:27:06.451573Z",
          "shell.execute_reply": "2022-02-11T20:27:06.450641Z",
          "shell.execute_reply.started": "2022-02-11T20:27:06.438872Z"
        },
        "id": "5nJZnJGDuPdm",
        "trusted": true
      },
      "outputs": [],
      "source": [
        "aligned_data = [\n",
        "    ([\"das\", \"haus\"], [\"the\", \"house\"]),\n",
        "    ([\"das\", \"buch\"], [\"the\", \"book\"]),\n",
        "    ([\"ein\", \"buch\"], [\"a\", \"book\"]),\n",
        "]"
      ]
    },
    {
      "cell_type": "code",
      "execution_count": 24,
      "metadata": {
        "colab": {
          "base_uri": "https://localhost:8080/"
        },
        "id": "E57jwoNCP_dx",
        "outputId": "d41e4f58-e9b7-489f-bfad-b8a65bf06719"
      },
      "outputs": [
        {
          "output_type": "stream",
          "name": "stdout",
          "text": [
            "[(['das', 'haus'], ['the', 'house']), (['das', 'buch'], ['the', 'book']), (['ein', 'buch'], ['a', 'book'])]\n"
          ]
        }
      ],
      "source": [
        "print(aligned_data)"
      ]
    },
    {
      "cell_type": "markdown",
      "metadata": {
        "id": "vNNKfZ-BuPdm"
      },
      "source": [
        "## Alignment Model\n",
        "\n",
        "Fill in the code for IBM Model 1 below. A correct implementation should achieve perplexity 4096 on the first iteration and perplexity around 70 by the tenth iteration, for the toy dataset above. Note that we'll be grading you only on the generated `self.translation_probabilities`, so the probability and perplexity functions only exist for you to check the correctness of your own implementation. You may wish to comment them out during implementation and check that `self.translation_probabilities` looks reasonable instead."
      ]
    },
    {
      "cell_type": "code",
      "execution_count": 25,
      "metadata": {
        "colab": {
          "base_uri": "https://localhost:8080/"
        },
        "execution": {
          "iopub.execute_input": "2022-02-11T20:27:18.353685Z",
          "iopub.status.busy": "2022-02-11T20:27:18.353267Z",
          "iopub.status.idle": "2022-02-11T20:27:18.384054Z",
          "shell.execute_reply": "2022-02-11T20:27:18.38336Z",
          "shell.execute_reply.started": "2022-02-11T20:27:18.353655Z"
        },
        "id": "Ah1xi0KOuPdn",
        "outputId": "1b129888-842a-4aba-c360-76dca1fe1d5b",
        "trusted": true
      },
      "outputs": [
        {
          "output_type": "stream",
          "name": "stderr",
          "text": [
            "100%|██████████| 10/10 [00:00<00:00, 9664.29it/s]"
          ]
        },
        {
          "output_type": "stream",
          "name": "stdout",
          "text": [
            "Iteration: 0 | Perplexity: 4096.0\n",
            "Iteration: 1 | Perplexity: 202.27160493827165\n",
            "Iteration: 2 | Perplexity: 148.579719533778\n",
            "Iteration: 3 | Perplexity: 114.97728367667098\n",
            "Iteration: 4 | Perplexity: 94.55365015392323\n",
            "Iteration: 5 | Perplexity: 82.33392683842199\n",
            "Iteration: 6 | Perplexity: 75.05039472109713\n",
            "Iteration: 7 | Perplexity: 70.70850570939692\n",
            "Iteration: 8 | Perplexity: 68.11819483523485\n",
            "Iteration: 9 | Perplexity: 66.57100072682941\n",
            "Iteration: 10 | Perplexity: 65.64416020074577\n"
          ]
        },
        {
          "output_type": "stream",
          "name": "stderr",
          "text": [
            "\n"
          ]
        }
      ],
      "source": [
        "class IBMModel1:\n",
        "    def __init__(self, data, num_iterations=10, epsilon=1.0, compute_perplexity=True):\n",
        "        self.data = data # aligned corpus as shown above\n",
        "        self.num_iterations = num_iterations # iterations of expectation-maximization\n",
        "        self.epsilon = epsilon\n",
        "        self.compute_perplexity = compute_perplexity\n",
        "        \n",
        "        # Preprocess bitext data:\n",
        "        self.source_words, self.target_words = set(), set()\n",
        "        for (source,target) in self.data:\n",
        "            self.source_words.update(source)\n",
        "            self.target_words.update(target)\n",
        "        \n",
        "        # Initialize uniform probabilities:\n",
        "        self.translation_probs = {(s,t): 1.0/len(self.target_words)\n",
        "                                  for s,t in product(self.source_words, self.target_words)}\n",
        "        \n",
        "\n",
        "    def e_step(self):\n",
        "        # YOUR SOLUTION HERE\n",
        "        # - Iterate over paired sentences in the data and compute:\n",
        "        # - (1) counts, the number of times a source word is translated into a target word,\n",
        "        #       weighted by alignment probabilities\n",
        "        # - (2) total, the sum of counts over all possible target words\n",
        "        # See slide 32 for more information: https://cal-cs288.github.io/sp20/slides/cs288_sp20_05_statistical_translation_4up.pdf\n",
        "\n",
        "        # BEGIN SOLUTION\n",
        "\n",
        "        sentence_total = dict()\n",
        "\n",
        "        # 1) counts, the number of times a source word is translated into a target word, weighted by alignment probabilities\n",
        "        counts = dict()\n",
        "        # (2) total, the sum of counts over all possible target words\n",
        "        total = dict()\n",
        "        # Iterate over paired sentences in the data and compute\n",
        "        # from slide 32: the code is as follows: \n",
        "        for foreign_sentence, english_sentence in self.data:\n",
        "\n",
        "            for english_words in english_sentence:\n",
        "                sentence_total[english_words] = 0\n",
        "\n",
        "                for foreign_words in foreign_sentence:\n",
        "                    sentence_total[english_words] = sentence_total[english_words] + self.translation_probs[(foreign_words,english_words)]\n",
        "\n",
        "            for english_words in english_sentence:\n",
        "\n",
        "                for foreign_words in foreign_sentence:\n",
        "                    value = self.translation_probs[(foreign_words, english_words)] / sentence_total[english_words]\n",
        "\n",
        "                    counts[(foreign_words, english_words)] = counts.get((foreign_words, english_words), 0) + value\n",
        "\n",
        "                    total[foreign_words] = total.get(foreign_words, 0) + value\n",
        "                \n",
        "        return counts, total\n",
        "        # END SOLUTION\n",
        "        \n",
        "\n",
        "    def m_step(self, counts, total):\n",
        "        # YOUR SOLUTION HERE\n",
        "        # - Update self.translation_probs using counts and total\n",
        "\n",
        "        # BEGIN SOLUTION\n",
        "\n",
        "        self.translation_probs = {(source, target): counts.get((source, target), 0) / total[source] \n",
        "                                  for source, target in product(self.source_words, self.target_words)}\n",
        "                                  \n",
        "        # END SOLUTION\n",
        "        \n",
        "\n",
        "    def train(self):\n",
        "        # Run EM for self.num_iterations:\n",
        "        for idx in tqdm.tqdm(range(self.num_iterations)):\n",
        "            if self.compute_perplexity: \n",
        "                print(\"Iteration: {} | Perplexity: {}\".format(idx, self.perplexity()))\n",
        "            counts, total = self.e_step()\n",
        "            self.m_step(counts, total)\n",
        "        if self.compute_perplexity:\n",
        "            print(\"Iteration: {} | Perplexity: {}\".format(self.num_iterations, self.perplexity()))\n",
        "\n",
        "\n",
        "        # # MY CODE: Check the probabilities \n",
        "        # print(\"\\n\")\n",
        "        # for idx in tqdm.tqdm(range(self.num_iterations)):\n",
        "        #   print(\"\\n\")\n",
        "        #   print(\"probabilities: {} \".format(self.translation_probs))\n",
        "\n",
        "\n",
        "    def probability(self, source, target):\n",
        "        # YOUR SOLUTION HERE\n",
        "        # - Use the normalization trick from lecture to efficiently compute probabilities\n",
        "        # - We'll use self.epsilon here, which is defined in the initialization\n",
        "\n",
        "        # BEGIN SOLUTION\n",
        "        # Using the normalization trick from class:  \n",
        "        product_of_the_sum_of_probabilities = 1\n",
        "        for english_word in target:\n",
        "            sum_of_probabilities = 0\n",
        "\n",
        "            for foreign_word in source:\n",
        "                sum_of_probabilities += self.translation_probs[(foreign_word, english_word)]\n",
        "\n",
        "            product_of_the_sum_of_probabilities *= sum_of_probabilities\n",
        "\n",
        "        # We'll use self.epsilon here, which is defined in the initialization\n",
        "        return product_of_the_sum_of_probabilities * self.epsilon / len(source) ** len(target)\n",
        "\n",
        "        # END SOLUTION\n",
        "        \n",
        "\n",
        "    def perplexity(self):\n",
        "        # YOUR SOLUTION HERE\n",
        "        # - Iterate over each pair of sentences in the dataset\n",
        "        # - Call self.probability and compute a sum in log space\n",
        "        # - Feel free to comment this out while testing your initial model\n",
        "\n",
        "        # BEGIN SOLUTION\n",
        "\n",
        "        return 2 ** (-sum([math.log2(self.probability(pair[0], pair[1])) for pair in self.data]))\n",
        "\n",
        "        # END SOLUTION\n",
        "        \n",
        "\n",
        "    def get_alignment(self, source, target):\n",
        "        # YOUR SOLUTION HERE\n",
        "        # - Find the best word alignment for a source, target pair\n",
        "        # - Output a list of [(source_idx, target_idx)]\n",
        "        #   For example: ([\"ein\", \"buch\"], [\"a\", \"book\"])\n",
        "        #   should have an alignment [(0,0), (1,1)]\n",
        "        \n",
        "        # BEGIN SOLUTION\n",
        "        best_word_alignment = list()\n",
        "\n",
        "        for i in range(len(target)):\n",
        "            index = np.argmax([self.translation_probs.get((s, target[i]), 0) for s in source])\n",
        "            best_word_alignment.append((i, index))\n",
        "            \n",
        "        return best_word_alignment\n",
        "        # END SOLUTION\n",
        "\n",
        "\n",
        "ibm = IBMModel1(aligned_data)\n",
        "ibm.train()\n",
        "assert(ibm.get_alignment([\"ein\", \"buch\"], [\"a\", \"book\"]) == [(0, 0), (1, 1)])\n",
        "with open(\"example_alignments.pkl\", \"wb\") as outfile:\n",
        "    pickle.dump(ibm.translation_probs, outfile, protocol=pickle.HIGHEST_PROTOCOL)"
      ]
    },
    {
      "cell_type": "markdown",
      "metadata": {
        "id": "Hzo6leZruPdn"
      },
      "source": [
        "## Visualization and Analysis\n",
        "\n",
        "Write code to visualize alignments and rerun the IBM model on a (very slightly larger) toy dataset:"
      ]
    },
    {
      "cell_type": "code",
      "execution_count": 26,
      "metadata": {
        "colab": {
          "base_uri": "https://localhost:8080/",
          "height": 516
        },
        "id": "wjjeWcVLuPdn",
        "outputId": "7c974896-66eb-42de-b529-617f96a03679"
      },
      "outputs": [
        {
          "output_type": "stream",
          "name": "stderr",
          "text": [
            "100%|██████████| 10/10 [00:00<00:00, 1746.68it/s]"
          ]
        },
        {
          "output_type": "stream",
          "name": "stdout",
          "text": [
            "Iteration: 0 | Perplexity: 1628413597910461.5\n",
            "Iteration: 1 | Perplexity: 189338839378.3891\n",
            "Iteration: 2 | Perplexity: 39436268160.37859\n",
            "Iteration: 3 | Perplexity: 13371159789.970629\n",
            "Iteration: 4 | Perplexity: 6500890054.420371\n",
            "Iteration: 5 | Perplexity: 4032796830.798999\n",
            "Iteration: 6 | Perplexity: 2928993250.6301746\n",
            "Iteration: 7 | Perplexity: 2354400387.609296\n",
            "Iteration: 8 | Perplexity: 2021731747.1772301\n",
            "Iteration: 9 | Perplexity: 1813803527.681711\n",
            "Iteration: 10 | Perplexity: 1676193076.3822927\n"
          ]
        },
        {
          "output_type": "stream",
          "name": "stderr",
          "text": [
            "\n"
          ]
        },
        {
          "output_type": "display_data",
          "data": {
            "text/plain": [
              "<Figure size 432x288 with 1 Axes>"
            ],
            "image/png": "[encoded data removed]"
          },
          "metadata": {}
        }
      ],
      "source": [
        "import networkx as nx\n",
        "from networkx.algorithms import bipartite\n",
        "\n",
        "def visualize_alignment(alignment, source, target):\n",
        "    # YOUR SOLUTION HERE\n",
        "    # BEGIN ALIGNMENT\n",
        "    \n",
        "    Graph = nx.Graph()\n",
        "    Graph.add_nodes_from(source, bipartite=0)\n",
        "    Graph.add_nodes_from(target, bipartite=1)\n",
        "    Graph.add_edges_from([(source[indices[1]], target[indices[0]]) for indices in alignment])\n",
        "    positions = {node:[0, -i] for i, node in enumerate(source)}\n",
        "    positions.update({node:[1, -i] for i, node in enumerate(target)})\n",
        "    \n",
        "    nx.draw(Graph, positions, with_labels=False)\n",
        "\n",
        "    for position in positions:\n",
        "        positions[position][1] += 0.25\n",
        "\n",
        "    nx.draw_networkx_labels(Graph, positions)\n",
        "\n",
        "    # END ALIGNMENT\n",
        "\n",
        "aligned_data = [\n",
        "    (['klein', 'ist', 'das', 'haus'], ['the', 'house', 'is', 'small']),\n",
        "    (['das', 'haus', 'ist', 'ja', 'groß'], ['the', 'house', 'is', 'big']),\n",
        "    (['das', 'buch', 'ist', 'ja', 'klein'], ['the', 'book', 'is', 'small']),\n",
        "    (['das', 'haus'], ['the', 'house']),\n",
        "    (['das', 'buch'], ['the', 'book']),\n",
        "    (['ein', 'buch'], ['a', 'book'])\n",
        "]\n",
        "ibm = IBMModel1(aligned_data)\n",
        "ibm.train()\n",
        "alignment = ibm.get_alignment(['klein', 'ist', 'das', 'haus'], ['the', 'house', 'is', 'small'])\n",
        "# print(alignment)\n",
        "visualize_alignment(alignment, ['klein', 'ist', 'das', 'haus'],  ['the', 'house', 'is', 'small'])"
      ]
    },
    {
      "cell_type": "markdown",
      "metadata": {
        "id": "hmxpgwEruPdo"
      },
      "source": [
        "We'll now run the IBM model on a significantly larger dataset to showcase its failure modes:"
      ]
    },
    {
      "cell_type": "code",
      "execution_count": 27,
      "metadata": {
        "colab": {
          "base_uri": "https://localhost:8080/"
        },
        "execution": {
          "iopub.execute_input": "2022-02-11T20:06:12.446028Z",
          "iopub.status.busy": "2022-02-11T20:06:12.445711Z",
          "iopub.status.idle": "2022-02-11T20:07:21.554165Z",
          "shell.execute_reply": "2022-02-11T20:07:21.553432Z",
          "shell.execute_reply.started": "2022-02-11T20:06:12.445985Z"
        },
        "id": "aWyB-MGduPdo",
        "outputId": "ee7251b7-eae5-42a8-a130-adedf2df30f7",
        "trusted": true
      },
      "outputs": [
        {
          "output_type": "stream",
          "name": "stdout",
          "text": [
            "Looking in indexes: https://pypi.org/simple, https://us-python.pkg.dev/colab-wheels/public/simple/\n",
            "Requirement already satisfied: sentencepiece in /usr/local/lib/python3.8/dist-packages (0.1.97)\n",
            "Requirement already satisfied: torchtext==0.8.1 in /usr/local/lib/python3.8/dist-packages (0.8.1)\n",
            "Requirement already satisfied: tqdm in /usr/local/lib/python3.8/dist-packages (from torchtext==0.8.1) (4.64.1)\n",
            "Requirement already satisfied: requests in /usr/local/lib/python3.8/dist-packages (from torchtext==0.8.1) (2.25.1)\n",
            "Requirement already satisfied: numpy in /usr/local/lib/python3.8/dist-packages (from torchtext==0.8.1) (1.22.4)\n",
            "Requirement already satisfied: torch==1.7.1 in /usr/local/lib/python3.8/dist-packages (from torchtext==0.8.1) (1.7.1)\n",
            "Requirement already satisfied: typing-extensions in /usr/local/lib/python3.8/dist-packages (from torch==1.7.1->torchtext==0.8.1) (4.5.0)\n",
            "Requirement already satisfied: idna<3,>=2.5 in /usr/local/lib/python3.8/dist-packages (from requests->torchtext==0.8.1) (2.10)\n",
            "Requirement already satisfied: urllib3<1.27,>=1.21.1 in /usr/local/lib/python3.8/dist-packages (from requests->torchtext==0.8.1) (1.24.3)\n",
            "Requirement already satisfied: certifi>=2017.4.17 in /usr/local/lib/python3.8/dist-packages (from requests->torchtext==0.8.1) (2022.12.7)\n",
            "Requirement already satisfied: chardet<5,>=3.0.2 in /usr/local/lib/python3.8/dist-packages (from requests->torchtext==0.8.1) (4.0.0)\n"
          ]
        }
      ],
      "source": [
        "!pip install sentencepiece torchtext==0.8.1\n",
        "import sentencepiece\n",
        "import torchtext"
      ]
    },
    {
      "cell_type": "code",
      "execution_count": 28,
      "metadata": {
        "colab": {
          "base_uri": "https://localhost:8080/"
        },
        "execution": {
          "iopub.execute_input": "2022-02-11T20:07:21.556417Z",
          "iopub.status.busy": "2022-02-11T20:07:21.55607Z",
          "iopub.status.idle": "2022-02-11T20:07:26.26864Z",
          "shell.execute_reply": "2022-02-11T20:07:26.267744Z",
          "shell.execute_reply.started": "2022-02-11T20:07:21.556373Z"
        },
        "id": "YtSTfsDwuPdo",
        "outputId": "6bd747fd-d33b-4d40-ed79-c4338fc3593e",
        "trusted": true
      },
      "outputs": [
        {
          "output_type": "stream",
          "name": "stderr",
          "text": [
            "/usr/local/lib/python3.8/dist-packages/torchtext/data/field.py:150: UserWarning: Field class will be retired soon and moved to torchtext.legacy. Please see the most recent release notes for further information.\n",
            "  warnings.warn('{} class will be retired soon and moved to torchtext.legacy. Please see the most recent release notes for further information.'.format(self.__class__.__name__), UserWarning)\n",
            "/usr/local/lib/python3.8/dist-packages/torchtext/data/example.py:78: UserWarning: Example class will be retired soon and moved to torchtext.legacy. Please see the most recent release notes for further information.\n",
            "  warnings.warn('Example class will be retired soon and moved to torchtext.legacy. Please see the most recent release notes for further information.', UserWarning)\n"
          ]
        }
      ],
      "source": [
        "# Load the Multi30K translation dataset:\n",
        "extensions = [\".de\", \".en\"]\n",
        "source_field = torchtext.data.Field(tokenize=lambda x: x)\n",
        "target_field = torchtext.data.Field(tokenize=lambda x: x)\n",
        "training_data, validation_data, test_data = torchtext.datasets.Multi30k.splits(\n",
        "    extensions, [source_field, target_field], root=\".\")"
      ]
    },
    {
      "cell_type": "code",
      "execution_count": 29,
      "metadata": {
        "colab": {
          "base_uri": "https://localhost:8080/"
        },
        "execution": {
          "iopub.execute_input": "2022-02-11T20:27:56.558251Z",
          "iopub.status.busy": "2022-02-11T20:27:56.557834Z",
          "iopub.status.idle": "2022-02-11T20:29:20.564518Z",
          "shell.execute_reply": "2022-02-11T20:29:20.563594Z",
          "shell.execute_reply.started": "2022-02-11T20:27:56.5582Z"
        },
        "id": "bSX_GfvquPdo",
        "outputId": "5419ef68-048c-434a-8d00-63cefe6df9a0",
        "trusted": true
      },
      "outputs": [
        {
          "output_type": "stream",
          "name": "stderr",
          "text": [
            "100%|██████████| 10/10 [00:55<00:00,  5.60s/it]\n"
          ]
        }
      ],
      "source": [
        "def preprocess(sentence):\n",
        "    sentence = sentence.translate(str.maketrans('', '', string.punctuation)) # strip punctuation\n",
        "    return sentence.strip().lower().split()\n",
        "\n",
        "aligned_data = []\n",
        "for example in training_data[:1000]:\n",
        "    source = preprocess(example.src)\n",
        "    target = preprocess(example.trg)\n",
        "    aligned_data.append((source, target))\n",
        "\n",
        "ibm = IBMModel1(aligned_data, compute_perplexity=False)\n",
        "ibm.train()\n",
        "with open(\"multi30k_alignments.pkl\", \"wb\") as outfile:\n",
        "    pickle.dump(ibm.translation_probs, outfile, protocol=pickle.HIGHEST_PROTOCOL)"
      ]
    },
    {
      "cell_type": "code",
      "execution_count": 30,
      "metadata": {
        "colab": {
          "base_uri": "https://localhost:8080/"
        },
        "execution": {
          "iopub.execute_input": "2022-02-11T21:05:19.138073Z",
          "iopub.status.busy": "2022-02-11T21:05:19.137386Z",
          "iopub.status.idle": "2022-02-11T21:05:19.147051Z",
          "shell.execute_reply": "2022-02-11T21:05:19.146357Z",
          "shell.execute_reply.started": "2022-02-11T21:05:19.13803Z"
        },
        "id": "qbXsgzyFuPdp",
        "outputId": "88dda9f0-2bc9-48f9-faeb-44b4de58bf47",
        "trusted": true
      },
      "outputs": [
        {
          "output_type": "stream",
          "name": "stdout",
          "text": [
            "('hund', 'dog'): 0.9765105915208369\n",
            "('hund', 'cat'): 1.0745541756409012e-16\n",
            "('ein', 'a'): 0.904016367677722\n",
            "('ein', 'the'): 0.0002091328743299106\n",
            "('frau', 'woman'): 0.9528437741343648\n",
            "('frau', 'man'): 2.454275253390026e-07\n"
          ]
        }
      ],
      "source": [
        "# Making sure the model learned something:\n",
        "examples = [\n",
        "    (\"hund\", \"dog\"),\n",
        "    (\"hund\", \"cat\"),\n",
        "    (\"ein\", \"a\"),\n",
        "    (\"ein\", \"the\"),\n",
        "    (\"frau\", \"woman\"),\n",
        "    (\"frau\", \"man\"),\n",
        "]\n",
        "\n",
        "\n",
        "for example in examples:\n",
        "    print(str(example) + \": \" + str(ibm.translation_probs[example]))"
      ]
    },
    {
      "cell_type": "markdown",
      "metadata": {
        "id": "DIwS6lLtuPdp"
      },
      "source": [
        "From this larger dataset: find at least one sentence where the IBM alignment model performs reasonably well, and find another one where it fails catastrophically, and include alignment visualizations for both examples in your report. You may want to consult a [German-English dictionary](https://www.collinsdictionary.com/us/dictionary/english-german) for this part of the problem. Provide a brief explanation for why the alignment model did poorly on the failure case."
      ]
    },
    {
      "cell_type": "code",
      "execution_count": 31,
      "metadata": {
        "id": "zr1X3pKyfKdV",
        "outputId": "0872b120-2490-4768-9977-0fb961a733a9",
        "colab": {
          "base_uri": "https://localhost:8080/",
          "height": 335
        }
      },
      "outputs": [
        {
          "output_type": "stream",
          "name": "stderr",
          "text": [
            "100%|██████████| 10/10 [01:03<00:00,  6.36s/it]\n"
          ]
        },
        {
          "output_type": "display_data",
          "data": {
            "text/plain": [
              "<Figure size 432x288 with 1 Axes>"
            ],
            "image/png": "[encoded data removed]"
          },
          "metadata": {}
        }
      ],
      "source": [
        "##Just Some visualizations\n",
        "# (['klein', 'ist', 'das', 'haus'], ['the', 'house', 'is', 'small']),\n",
        "#  (['das', 'haus', 'ist', 'ja', 'groß'], ['the', 'house', 'is', 'big']),\n",
        "#  (['das', 'buch', 'ist', 'ja', 'klein'], ['the', 'book', 'is', 'small']),\n",
        "\n",
        "bm = IBMModel1(aligned_data)\n",
        "ibm.train()\n",
        "alignment = ibm.get_alignment(['klein', 'ist', 'das', 'haus'], ['the', 'house', 'is', 'small'])\n",
        "# print(alignment)\n",
        "visualize_alignment(alignment, ['klein', 'ist', 'das', 'haus'],  ['the', 'house', 'is', 'small'])"
      ]
    },
    {
      "cell_type": "code",
      "execution_count": 32,
      "metadata": {
        "id": "7GL4UXwLi_EL",
        "outputId": "268a1579-afb0-44b5-b412-8279b921baed",
        "colab": {
          "base_uri": "https://localhost:8080/",
          "height": 318
        }
      },
      "outputs": [
        {
          "output_type": "display_data",
          "data": {
            "text/plain": [
              "<Figure size 432x288 with 1 Axes>"
            ],
            "image/png": "[encoded data removed]"
          },
          "metadata": {}
        }
      ],
      "source": [
        "visualize_alignment(alignment, ['das', 'haus', 'ist', 'ja', 'groß'], ['the', 'house', 'is', 'big'])\n"
      ]
    },
    {
      "cell_type": "code",
      "execution_count": 33,
      "metadata": {
        "id": "KUqZj4fYi_EL",
        "outputId": "5c3a4f44-aff1-4e64-b018-ef673b4de61d",
        "colab": {
          "base_uri": "https://localhost:8080/",
          "height": 318
        }
      },
      "outputs": [
        {
          "output_type": "display_data",
          "data": {
            "text/plain": [
              "<Figure size 432x288 with 1 Axes>"
            ],
            "image/png": "[encoded data removed]"
          },
          "metadata": {}
        }
      ],
      "source": [
        "visualize_alignment(alignment, ['das', 'buch', 'ist', 'ja', 'klein'], ['the', 'book', 'is', 'small'])"
      ]
    },
    {
      "cell_type": "code",
      "execution_count": 34,
      "metadata": {
        "id": "W5ClJOp5i_EM",
        "colab": {
          "base_uri": "https://localhost:8080/"
        },
        "outputId": "37149231-557d-45f1-dd67-ade7c942f050"
      },
      "outputs": [
        {
          "output_type": "stream",
          "name": "stdout",
          "text": [
            "1000\n"
          ]
        }
      ],
      "source": [
        "print(len(aligned_data))"
      ]
    },
    {
      "cell_type": "code",
      "source": [
        "print(aligned_data[0])"
      ],
      "metadata": {
        "colab": {
          "base_uri": "https://localhost:8080/"
        },
        "id": "3bHGzP5w29wD",
        "outputId": "be043e09-fada-4339-a414-54689c88316f"
      },
      "execution_count": 35,
      "outputs": [
        {
          "output_type": "stream",
          "name": "stdout",
          "text": [
            "(['zwei', 'junge', 'weiße', 'männer', 'sind', 'im', 'freien', 'in', 'der', 'nähe', 'vieler', 'büsche'], ['two', 'young', 'white', 'males', 'are', 'outside', 'near', 'many', 'bushes'])\n"
          ]
        }
      ]
    },
    {
      "cell_type": "code",
      "source": [
        "print(type(aligned_data))"
      ],
      "metadata": {
        "colab": {
          "base_uri": "https://localhost:8080/"
        },
        "id": "1qt09ShUekCW",
        "outputId": "ab88844c-fb83-40ab-b1f1-78ae12a91bc0"
      },
      "execution_count": 36,
      "outputs": [
        {
          "output_type": "stream",
          "name": "stdout",
          "text": [
            "<class 'list'>\n"
          ]
        }
      ]
    },
    {
      "cell_type": "code",
      "source": [
        "print(aligned_data[:2])"
      ],
      "metadata": {
        "colab": {
          "base_uri": "https://localhost:8080/"
        },
        "id": "aJfL4M1xNFLt",
        "outputId": "909ba3bd-046e-42c6-b04e-b84b3c2ccf2e"
      },
      "execution_count": 37,
      "outputs": [
        {
          "output_type": "stream",
          "name": "stdout",
          "text": [
            "[(['zwei', 'junge', 'weiße', 'männer', 'sind', 'im', 'freien', 'in', 'der', 'nähe', 'vieler', 'büsche'], ['two', 'young', 'white', 'males', 'are', 'outside', 'near', 'many', 'bushes']), (['mehrere', 'männer', 'mit', 'schutzhelmen', 'bedienen', 'ein', 'antriebsradsystem'], ['several', 'men', 'in', 'hard', 'hats', 'are', 'operating', 'a', 'giant', 'pulley', 'system'])]\n"
          ]
        }
      ]
    },
    {
      "cell_type": "code",
      "source": [
        "words_to_search = ['ist']\n",
        "\n",
        "for word in words_to_search:\n",
        "    print(f\"{word} appears in the following tuples of lists:\")\n",
        "    for tuple_of_lists in aligned_data:\n",
        "        for sublist in tuple_of_lists:\n",
        "            if word in sublist:\n",
        "                print(tuple_of_lists)\n",
        "                break"
      ],
      "metadata": {
        "colab": {
          "base_uri": "https://localhost:8080/"
        },
        "id": "C7SOOAcvOskW",
        "outputId": "fb681a4b-afb5-47b2-f988-49ff84be6e09"
      },
      "execution_count": 40,
      "outputs": [
        {
          "output_type": "stream",
          "name": "stdout",
          "text": [
            "ist appears in the following tuples of lists:\n",
            "(['ein', 'mann', 'liegt', 'auf', 'der', 'bank', 'an', 'die', 'auch', 'ein', 'weißer', 'hund', 'angebunden', 'ist'], ['a', 'man', 'lays', 'on', 'the', 'bench', 'to', 'which', 'a', 'white', 'dog', 'is', 'also', 'tied'])\n",
            "(['ein', 'großes', 'bauwerk', 'ist', 'kaputt', 'gegangen', 'und', 'liegt', 'auf', 'einer', 'fahrbahn'], ['a', 'large', 'structure', 'has', 'broken', 'and', 'is', 'laying', 'in', 'a', 'roadway'])\n",
            "(['ein', 'mann', 'der', 'barfuß', 'ist', 'olivgrüne', 'kurze', 'hosen', 'trägt', 'auf', 'einem', 'kleinen', 'propangasgrill', 'hotdogs', 'grillt', 'und', 'gleichzeitig', 'eine', 'blaue', 'kunststofftasse', 'hält'], ['a', 'barefooted', 'man', 'wearing', 'olive', 'green', 'shorts', 'grilling', 'hotdogs', 'on', 'a', 'small', 'propane', 'grill', 'while', 'holding', 'a', 'blue', 'plastic', 'cup'])\n",
            "(['ein', 'weißer', 'hund', 'ist', 'kurz', 'davor', 'ein', 'gelbes', 'hundespielzeug', 'zu', 'fangen'], ['a', 'white', 'dog', 'is', 'about', 'to', 'catch', 'a', 'yellow', 'dog', 'toy'])\n",
            "(['ein', 'mann', 'in', 'einem', 'roten', 'hemd', 'sitzt', 'neben', 'obst', 'das', 'zu', 'verkaufen', 'ist'], ['a', 'man', 'in', 'a', 'red', 'shirt', 'is', 'sitting', 'by', 'fruit', 'for', 'sale'])\n",
            "(['vier', 'kinder', 'lächeln', 'während', 'sie', 'zusammen', 'mit', 'einem', 'fahrrad', 'posieren', 'das', 'viel', 'zu', 'groß', 'für', 'sie', 'ist'], ['four', 'children', 'are', 'smiling', 'as', 'they', 'pose', 'together', 'with', 'a', 'bicycle', 'that', 'is', 'much', 'too', 'big', 'for', 'them'])\n",
            "(['ein', 'junges', 'mädchen', 'das', 'mehrfarbig', 'gekleidet', 'ist', 'einen', 'orangefarbenen', 'ball', 'in', 'der', 'rechten', 'hand', 'trägt', 'und', 'hinter', 'einem', 'haus', 'durch', 'leuchtend', 'grünes', 'gras', 'geht'], ['a', 'young', 'girl', 'wearing', 'a', 'multicolored', 'holding', 'an', 'orange', 'ball', 'in', 'her', 'right', 'hand', 'walking', 'through', 'bright', 'green', 'grass', 'behind', 'a', 'house'])\n",
            "(['ein', 'alter', 'wettergegerbter', 'mann', 'mit', 'bart', 'der', 'ganz', 'in', 'schwarz', 'gekleidet', 'ist', 'reitet', 'auf', 'einem', 'schönen', 'weißen', 'esel', 'auf', 'weißen', 'felsen'], ['an', 'old', 'weathered', 'bearded', 'man', 'wearing', 'all', 'black', 'riding', 'a', 'beautiful', 'white', 'donkey', 'on', 'white', 'rocks'])\n",
            "(['ein', 'mann', 'in', 'einem', 'taucheranzug', 'wirft', 'ein', 'krabbelkind', 'in', 'die', 'luft', 'und', 'ist', 'bereit', 'es', 'aufzufangen'], ['a', 'man', 'in', 'a', 'wetsuit', 'is', 'throwing', 'a', 'toddler', 'up', 'in', 'the', 'air', 'and', 'is', 'ready', 'to', 'catch', 'him'])\n",
            "(['eine', 'aus', 'vierzehn', 'personen', 'bestehende', 'gruppe', 'ist', 'in', 'einer', 'halle', 'mit', 'esstischen', 'und', 'einer', 'bühne', 'versammelt'], ['a', 'group', 'of', 'fourteen', 'is', 'assembled', 'in', 'a', 'hall', 'with', 'dining', 'tables', 'and', 'a', 'stage'])\n",
            "(['eine', 'frau', 'die', 'lilafarben', 'gekleidet', 'ist', 'und', 'ein', 'mieder', 'trägt', 'faltet', 'die', 'hände', 'in', 'ihrem', 'schoß'], ['a', 'woman', 'dressed', 'in', 'light', 'purple', 'and', 'wearing', 'a', 'corsage', 'clasps', 'her', 'hands', 'in', 'her', 'lap'])\n",
            "(['eine', 'frau', 'in', 'einem', 'grünen', 'pullunder', 'ist', 'von', 'drei', 'kindern', 'umgeben', 'und', 'lacht'], ['a', 'woman', 'in', 'a', 'green', 'tank', 'top', 'is', 'surrounded', 'by', 'three', 'children', 'laughing'])\n",
            "(['drei', 'junge', 'erwachsenen', 'sitzen', 'herum', 'wobei', 'eine', 'junge', 'frau', 'so', 'tut', 'als', 'ob', 'sie', 'einem', 'der', 'jungen', 'männer', 'ins', 'gesicht', 'tritt', 'und', 'dabei', 'lacht', 'und', 'der', 'junge', 'mann', 'hinter', 'sieht', 'aus', 'als', 'ob', 'er', 'gerade', 'mitten', 'im', 'satz', 'ist'], ['three', 'young', 'adults', 'are', 'sitting', 'around', 'with', 'the', 'girl', 'pretending', 'to', 'kick', 'one', 'of', 'the', 'guys', 'in', 'the', 'face', 'while', 'laughing', 'and', 'the', 'guy', 'behind', 'him', 'looks', 'like', 'hes', 'in', 'midsentence'])\n",
            "(['eine', 'frau', 'in', 'einem', 'weißen', 'oberteil', 'und', 'rosafarbenen', 'rock', 'ist', 'kurz', 'davor', 'einen', 'tennisball', 'zu', 'schlagen'], ['a', 'woman', 'in', 'a', 'white', 'shirt', 'and', 'pink', 'skirt', 'is', 'about', 'to', 'hit', 'a', 'tennis', 'ball'])\n",
            "(['dies', 'ist', 'ein', 'mann', 'der', 'auf', 'einem', 'dach', 'steht', 'mit', 'bauarbeiten', 'im', 'hintergrund'], ['this', 'is', 'a', 'man', 'standing', 'on', 'a', 'rooftop', 'with', 'construction', 'in', 'the', 'background'])\n",
            "(['ein', 'motorrad', 'in', 'einer', 'straße', 'an', 'das', 'ein', 'seil', 'gebunden', 'ist', 'und', 'ein', 'mann', 'der', 'auf', 'dem', 'seil', 'geht'], ['a', 'bike', 'sitting', 'in', 'a', 'street', 'with', 'a', 'rope', 'tied', 'to', 'it', 'and', 'a', 'guy', 'walking', 'on', 'the', 'rope'])\n",
            "(['ein', 'mann', 'ist', 'in', 'einem', 'lastwagen', 'und', 'schaut', 'heraus', 'sein', 'linker', 'arm', 'vor', 'einer', 'tür'], ['a', 'man', 'is', 'inside', 'a', 'truck', 'looking', 'out', 'with', 'his', 'left', 'arm', 'in', 'front', 'of', 'a', 'door'])\n",
            "(['eine', 'gruppe', 'junger', 'menschen', 'ist', 'in', 'einer', 'werkstatt'], ['a', 'group', 'of', 'young', 'people', 'are', 'in', 'a', 'garage'])\n",
            "(['ein', 'kleines', 'baby', 'das', 'in', 'grün', 'und', 'gelb', 'gekleidet', 'ist', 'und', 'einen', 'latz', 'trägt', 'weint'], ['a', 'little', 'baby', 'dressed', 'in', 'green', 'and', 'yellow', 'wearing', 'a', 'bib', 'cries'])\n",
            "(['ein', 'aus', 'fünf', 'personen', 'bestehendes', 'opteam', 'in', 'einem', 'krankenhaus', 'ist', 'kurz', 'davor', 'eine', 'operation', 'durchzuführen'], ['a', 'five', 'person', 'surgical', 'team', 'is', 'about', 'to', 'perform', 'an', 'operation', 'in', 'a', 'hospital'])\n",
            "(['ein', 'strand', 'ist', 'voller', 'menschen'], ['a', 'beach', 'is', 'full', 'of', 'many', 'people'])\n",
            "(['ein', 'mann', 'in', 'organgefarbenen', 'kurzen', 'hosen', 'baut', 'einen', 'sandburg', 'wobei', 'mehrere', 'bilder', 'zu', 'einem', 'kombiniert', 'sind', 'sodass', 'er', 'vier', 'mal', 'zu', 'sehen', 'ist'], ['man', 'in', 'orange', 'shorts', 'builds', 'a', 'sand', 'castle', 'combining', 'multiple', 'pictures', 'into', 'one', 'resulting', 'in', 'four', 'copies', 'of', 'him'])\n",
            "(['ein', 'erwachsener', 'zeigt', 'einem', 'jungen', 'kind', 'einen', 'fechtanzug', 'der', 'auf', 'einem', 'baum', 'arrangiert', 'ist'], ['an', 'adult', 'shows', 'a', 'young', 'child', 'a', 'fencing', 'outfit', 'which', 'is', 'set', 'up', 'on', 'a', 'tree'])\n",
            "(['eine', 'aus', 'sechs', 'kindern', 'in', 'badeanzügen', 'bestehende', 'reihe', 'die', 'bereit', 'ist', 'in', 'ein', 'schwimmbecken', 'zu', 'springen'], ['a', 'line', 'of', 'six', 'children', 'in', 'bathing', 'suits', 'prepare', 'to', 'leap', 'into', 'a', 'swimming', 'pool'])\n",
            "(['dieses', 'bild', 'eines', 'lesenden', 'mannes', 'ist', 'schräg'], ['this', 'picture', 'of', 'a', 'man', 'reading', 'is', 'tilted'])\n",
            "(['eine', 'frau', 'die', 'gerade', 'dabei', 'ist', 'eine', 'bowlingkugel', 'auf', 'eine', 'bowlingbahn', 'zu', 'werfen'], ['a', 'woman', 'in', 'the', 'middle', 'of', 'throwing', 'a', 'bowling', 'ball', 'in', 'a', 'bowling', 'alley'])\n",
            "(['zwei', 'männer', 'in', 'einem', 'holzboot', 'von', 'denen', 'einer', 'gelb', 'und', 'einer', 'schwarz', 'angezogen', 'ist', 'die', 'auf', 'einem', 'glatten', 'gewässer', 'unterwegs', 'sind'], ['two', 'men', 'in', 'a', 'wooden', 'boat', 'one', 'wearing', 'yellow', 'and', 'one', 'wearing', 'black', 'traveling', 'on', 'a', 'smooth', 'body', 'of', 'water'])\n",
            "(['ein', 'lkw', 'ist', 'gerade', 'auf', 'das', 'heck', 'eines', 'anderen', 'lkw', 'aufgefahren'], ['a', 'truck', 'has', 'just', 'crashed', 'into', 'the', 'back', 'of', 'another', 'truck'])\n",
            "(['ein', 'paar', 'das', 'bei', 'einer', 'zusammenkunft', 'mit', 'einem', 'luftballon', 'unterwegs', 'ist', 'der', 'hinter', 'ihm', 'in', 'der', 'luft', 'schwebt'], ['a', 'couple', 'walking', 'at', 'a', 'gathering', 'with', 'a', 'balloon', 'in', 'the', 'air', 'behind', 'them'])\n",
            "(['ein', 'mann', 'streut', 'gewürze', 'auf', 'sein', 'grillgut', 'im', 'hintergrund', 'ist', 'laub', 'zu', 'sehen'], ['a', 'man', 'sprinkles', 'seasonings', 'on', 'his', 'barbecue', 'in', 'front', 'of', 'foliage'])\n",
            "(['ein', 'einzelner', 'musiker', 'in', 'schwarz', 'ist', 'auf', 'der', 'bühne', 'spielt', 'akustische', 'gitarre', 'und', 'singt', 'in', 'ein', 'mikrofon'], ['a', 'lone', 'musician', 'in', 'black', 'is', 'on', 'stage', 'playing', 'an', 'acoustic', 'guitar', 'and', 'singing', 'into', 'a', 'microphone'])\n",
            "(['ein', 'beleibtes', 'paar', 'ist', 'vor', 'einem', 'gestreiften', 'umkleidezelt', 'an', 'einem', 'strand', 'in', 'der', 'nähe', 'eines', 'piers', 'miteinander', 'beschäftigt'], ['a', 'heavyset', 'couple', 'interact', 'outside', 'a', 'striped', 'cabana', 'on', 'a', 'beach', 'located', 'near', 'a', 'pier'])\n",
            "(['ein', 'mann', 'mit', 'einem', 'grauen', 'tshirt', 'und', 'bluejeans', 'auf', 'einem', 'drivingrange', 'ist', 'bereit', 'einen', 'golfball', 'zu', 'schlagen'], ['a', 'man', 'wearing', 'a', 'gray', 'tshirt', 'and', 'blue', 'jeans', 'stands', 'ready', 'to', 'hit', 'a', 'golf', 'ball', 'at', 'a', 'driving', 'range'])\n",
            "(['ein', 'asiatischer', 'junge', 'springt', 'vor', 'freue', 'in', 'eine', 'wasserpfütze', 'seine', 'zunge', 'ist', 'vor', 'freude', 'herausgestreckt'], ['a', 'young', 'asian', 'boy', 'leaps', 'for', 'joy', 'into', 'a', 'pool', 'of', 'water', 'his', 'tongue', 'stuck', 'out', 'for', 'joy'])\n",
            "(['ein', 'kind', 'in', 'schwarzweißem', 'badezeug', 'kniet', 'im', 'flachen', 'wasser', 'über', 'einem', 'gelben', 'plastikboot', 'das', 'mit', 'nassem', 'sand', 'gefüllt', 'ist'], ['a', 'child', 'wearing', 'black', 'and', 'white', 'swim', 'gear', 'kneeling', 'in', 'shallow', 'water', 'over', 'a', 'plastic', 'yellow', 'boat', 'filled', 'with', 'wet', 'sand'])\n",
            "(['ein', 'mädchen', 'das', 'tagsüber', 'am', 'strand', 'einen', 'handstand', 'mit', 'grätsche', 'macht', 'während', 'im', 'hintergrund', 'ein', 'vergnügungspark', 'zu', 'sehen', 'ist'], ['a', 'girl', 'doing', 'a', 'split', 'handstand', 'on', 'the', 'beach', 'during', 'the', 'day', 'with', 'a', 'amusement', 'park', 'in', 'the', 'background'])\n",
            "(['ein', 'mann', 'der', 'dabei', 'ist', 'einen', 'schritt', 'von', 'einer', 'felskante', 'in', 'der', 'wüste', 'herunter', 'zu', 'machen'], ['a', 'man', 'about', 'to', 'step', 'off', 'the', 'edge', 'of', 'a', 'desert', 'rock', 'formation'])\n"
          ]
        }
      ]
    },
    {
      "cell_type": "code",
      "source": [
        "visualize_alignment(alignment,['ein', 'mann', 'liegt', 'auf', 'der', 'bank', 'an', 'die', 'auch', 'ein', 'weißer', 'hund', 'angebunden', 'ist'], \n",
        "                    ['a', 'man', 'lays', 'on', 'the', 'bench', 'to', 'which', 'a', 'white', 'dog', 'is', 'also', 'tied'])\n"
      ],
      "metadata": {
        "colab": {
          "base_uri": "https://localhost:8080/",
          "height": 318
        },
        "id": "BYx7WUHWQAL9",
        "outputId": "c574849b-74d8-4cca-f7e4-2a85248b7f21"
      },
      "execution_count": 41,
      "outputs": [
        {
          "output_type": "display_data",
          "data": {
            "text/plain": [
              "<Figure size 432x288 with 1 Axes>"
            ],
            "image/png": "[encoded data removed]"
          },
          "metadata": {}
        }
      ]
    },
    {
      "cell_type": "code",
      "source": [
        "visualize_alignment(alignment,['ein', 'strand', 'ist', 'voller', 'menschen'], ['a', 'beach', 'is', 'full', 'of', 'many', 'people'])"
      ],
      "metadata": {
        "colab": {
          "base_uri": "https://localhost:8080/",
          "height": 318
        },
        "id": "eeiQKRPGnTX4",
        "outputId": "fdfcc984-4f92-4046-8f1a-f195fa9e20ac"
      },
      "execution_count": 45,
      "outputs": [
        {
          "output_type": "display_data",
          "data": {
            "text/plain": [
              "<Figure size 432x288 with 1 Axes>"
            ],
            "image/png": "[encoded data removed]"
          },
          "metadata": {}
        }
      ]
    },
    {
      "cell_type": "code",
      "source": [],
      "metadata": {
        "id": "OZST0jStoQsN"
      },
      "execution_count": null,
      "outputs": []
    }
  ],
  "metadata": {
    "colab": {
      "provenance": []
    },
    "kernelspec": {
      "display_name": "Python 3.9.10 64-bit",
      "language": "python",
      "name": "python3"
    },
    "language_info": {
      "codemirror_mode": {
        "name": "ipython",
        "version": 3
      },
      "file_extension": ".py",
      "mimetype": "text/x-python",
      "name": "python",
      "nbconvert_exporter": "python",
      "pygments_lexer": "ipython3",
      "version": "3.9.10"
    },
    "vscode": {
      "interpreter": {
        "hash": "aee8b7b246df8f9039afb4144a1f6fd8d2ca17a180786b69acc140d282b71a49"
      }
    }
  },
  "nbformat": 4,
  "nbformat_minor": 0
}